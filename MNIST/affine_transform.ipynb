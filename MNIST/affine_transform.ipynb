{
 "cells": [
  {
   "cell_type": "markdown",
   "id": "f397d2ec",
   "metadata": {},
   "source": [
    "# AFFINE TRANSFORM"
   ]
  },
  {
   "cell_type": "code",
   "execution_count": 21,
   "id": "22e2bde5",
   "metadata": {},
   "outputs": [],
   "source": [
    "import numpy as np\n",
    "import tensorflow as tf\n",
    "import scipy"
   ]
  },
  {
   "cell_type": "code",
   "execution_count": 22,
   "id": "8ed0275d",
   "metadata": {},
   "outputs": [],
   "source": [
    "def load_dataset():\n",
    "    (x_train,y_train),(x_test,y_test)=tf.keras.datasets.mnist.load_data()\n",
    "    return (x_train,y_train),(x_test,y_test)"
   ]
  },
  {
   "cell_type": "code",
   "execution_count": 23,
   "id": "c4638e71",
   "metadata": {},
   "outputs": [],
   "source": [
    "(train_data,train_label),(test_data,test_label)=load_dataset()"
   ]
  },
  {
   "cell_type": "markdown",
   "id": "365a18d5",
   "metadata": {},
   "source": [
    "# Visualization"
   ]
  },
  {
   "cell_type": "code",
   "execution_count": 24,
   "id": "6fd8edb2",
   "metadata": {},
   "outputs": [],
   "source": [
    "import matplotlib.pyplot as plt"
   ]
  },
  {
   "cell_type": "code",
   "execution_count": 25,
   "id": "88310c55",
   "metadata": {},
   "outputs": [
    {
     "data": {
      "text/plain": [
       "[]"
      ]
     },
     "execution_count": 25,
     "metadata": {},
     "output_type": "execute_result"
    },
    {
     "data": {
      "image/png": "[encoded data removed]",
      "text/plain": [
       "<Figure size 432x288 with 1 Axes>"
      ]
     },
     "metadata": {
      "needs_background": "light"
     },
     "output_type": "display_data"
    }
   ],
   "source": [
    "img=train_data[51]\n",
    "plt.imshow(img)\n",
    "plt.plot()"
   ]
  },
  {
   "cell_type": "markdown",
   "id": "9f888c1c",
   "metadata": {},
   "source": [
    "# Formula calculations"
   ]
  },
  {
   "cell_type": "code",
   "execution_count": 26,
   "id": "b82f2cbc",
   "metadata": {},
   "outputs": [],
   "source": [
    "a=[a for a in range(28)]\n",
    "b=[a for a in range(28)]\n",
    "\n",
    "x,y=np.mgrid[:28,:28]"
   ]
  },
  {
   "cell_type": "markdown",
   "id": "e185bc67",
   "metadata": {},
   "source": [
    "## Finding the coordinates of centroid (x_mean, y_mean)"
   ]
  },
  {
   "cell_type": "code",
   "execution_count": 27,
   "id": "edf84060",
   "metadata": {},
   "outputs": [],
   "source": [
    "def find_means(x,y,data):\n",
    "    x_mean=np.sum(x*data)/(np.sum(data))\n",
    "    y_mean=np.sum(y*data)/(np.sum(data))\n",
    "    \n",
    "    return x_mean,y_mean"
   ]
  },
  {
   "cell_type": "code",
   "execution_count": 28,
   "id": "3bd50b47",
   "metadata": {},
   "outputs": [],
   "source": [
    "x_mean,y_mean=find_means(x,y,train_data[3])"
   ]
  },
  {
   "cell_type": "code",
   "execution_count": 29,
   "id": "144330e3",
   "metadata": {},
   "outputs": [
    {
     "data": {
      "text/plain": [
       "(14.487540122556172, 13.99346367084914)"
      ]
     },
     "execution_count": 29,
     "metadata": {},
     "output_type": "execute_result"
    }
   ],
   "source": [
    "x_mean,y_mean"
   ]
  },
  {
   "cell_type": "markdown",
   "id": "3c92c2a1",
   "metadata": {},
   "source": [
    "## Covariance matrix\n",
    "## Correlation : corr(x,y) = u_11/u_20 , where u_11 and u_20 are first and second moments respectively"
   ]
  },
  {
   "cell_type": "code",
   "execution_count": 30,
   "id": "671ce634",
   "metadata": {},
   "outputs": [],
   "source": [
    "def find_covar_mat_and_corr(x,y,data):\n",
    "    u_20=np.sum(((x-x_mean)**2)*data)\n",
    "    u_02=np.sum(((y-y_mean)**2)*data)\n",
    "    u_11=np.sum(((x-x_mean)*(y-y_mean))*data)\n",
    "    u_00=np.sum(data)\n",
    "    \n",
    "    corr=u_11/u_20\n",
    "    covar_mat=[[u_20/u_00,u_11/u_00],[u_11/u_00,u_02/u_00]]\n",
    "#     corr=u_11/u\n",
    "    return covar_mat,corr"
   ]
  },
  {
   "cell_type": "code",
   "execution_count": 31,
   "id": "3a92235a",
   "metadata": {},
   "outputs": [
    {
     "data": {
      "text/plain": [
       "([[31.80782549262712, -17.910615436607745],\n",
       "  [-17.910615436607745, 11.384958735403274]],\n",
       " -0.5630883331134764)"
      ]
     },
     "execution_count": 31,
     "metadata": {},
     "output_type": "execute_result"
    }
   ],
   "source": [
    "find_covar_mat_and_corr(x,y,train_data[3])"
   ]
  },
  {
   "cell_type": "markdown",
   "id": "079e04b5",
   "metadata": {},
   "source": [
    "## Finding the angle of rotation (instead of using angle of rotation, we can simply use correlation matrix)"
   ]
  },
  {
   "cell_type": "code",
   "execution_count": 32,
   "id": "22ae546a",
   "metadata": {},
   "outputs": [],
   "source": [
    "m,corr=find_covar_mat_and_corr(x,y,train_data[3])\n",
    "angle=-1*0.5*np.arctan((2*m[0][1])/(m[0][0]-m[1][1]))"
   ]
  },
  {
   "cell_type": "code",
   "execution_count": 33,
   "id": "ce271b3a",
   "metadata": {},
   "outputs": [
    {
     "data": {
      "text/plain": [
       "0.526313699716085"
      ]
     },
     "execution_count": 33,
     "metadata": {},
     "output_type": "execute_result"
    }
   ],
   "source": [
    "angle"
   ]
  },
  {
   "cell_type": "markdown",
   "id": "25eaddac",
   "metadata": {},
   "source": [
    "## Finding the rotation matrix"
   ]
  },
  {
   "cell_type": "markdown",
   "id": "f6c5c605",
   "metadata": {},
   "source": [
    "### Instead of [[cos(theta),-sin(theta)],[sin(theta),cos(theta)]] , we can use :\n",
    "### rotation_matrix = correlation_matrix = [[1,0],[corr(x,y),1]]"
   ]
  },
  {
   "cell_type": "code",
   "execution_count": 34,
   "id": "935f0b0b",
   "metadata": {},
   "outputs": [],
   "source": [
    "# corr_matrix=u_\n",
    "# rot_mat=[[np.cos(angle),-1*np.sin(angle)],[np.sin(angle),np.cos(angle)]]\n",
    "rot_mat=[[1,0],[corr,1]]"
   ]
  },
  {
   "cell_type": "code",
   "execution_count": 35,
   "id": "a3f36808",
   "metadata": {},
   "outputs": [
    {
     "data": {
      "text/plain": [
       "[[1, 0], [-0.5630883331134764, 1]]"
      ]
     },
     "execution_count": 35,
     "metadata": {},
     "output_type": "execute_result"
    }
   ],
   "source": [
    "rot_mat"
   ]
  },
  {
   "cell_type": "markdown",
   "id": "e2131123",
   "metadata": {},
   "source": [
    "# Finding offset for scipy.ndimage.affine_transform"
   ]
  },
  {
   "cell_type": "markdown",
   "id": "4d1d97b7",
   "metadata": {},
   "source": [
    "## centroid = np.dot(matrix, o) + offset\n",
    "## Therefore, offset=centroid - np.dot(matrix, o)"
   ]
  },
  {
   "cell_type": "markdown",
   "id": "4e170895",
   "metadata": {},
   "source": [
    "### Calculating the offset for scipy affine_transform function"
   ]
  },
  {
   "cell_type": "code",
   "execution_count": 36,
   "id": "65161bc7",
   "metadata": {},
   "outputs": [],
   "source": [
    "offset=[x_mean,y_mean]-np.dot(rot_mat,[14,14])"
   ]
  },
  {
   "cell_type": "code",
   "execution_count": 37,
   "id": "f3f86bd9",
   "metadata": {},
   "outputs": [
    {
     "data": {
      "text/plain": [
       "array([0.48754012, 7.87670033])"
      ]
     },
     "execution_count": 37,
     "metadata": {},
     "output_type": "execute_result"
    }
   ],
   "source": [
    "offset"
   ]
  },
  {
   "cell_type": "markdown",
   "id": "8dc5f3af",
   "metadata": {},
   "source": [
    "## Applying affine transform on image"
   ]
  },
  {
   "cell_type": "code",
   "execution_count": 38,
   "id": "f4c09a17",
   "metadata": {},
   "outputs": [],
   "source": [
    "from scipy.ndimage import affine_transform"
   ]
  },
  {
   "cell_type": "code",
   "execution_count": 39,
   "id": "4c5b72aa",
   "metadata": {},
   "outputs": [],
   "source": [
    "def final_image(image):\n",
    "    final_img=affine_transform(image,rot_mat,offset=offset)\n",
    "    return final_img"
   ]
  },
  {
   "cell_type": "code",
   "execution_count": 40,
   "id": "6d44dd7c",
   "metadata": {},
   "outputs": [],
   "source": [
    "for i in range(len(train_data)):\n",
    "    x_mean,y_mean=find_means(x,y,train_data[i])\n",
    "    covar_mat,corr=find_covar_mat_and_corr(x,y,train_data[i])\n",
    "    rot_mat=[[1,0],[corr,1]]\n",
    "    offset=[x_mean,y_mean]-np.dot(rot_mat,[14,14])\n",
    "    train_data[i]=final_image(train_data[i])"
   ]
  },
  {
   "cell_type": "markdown",
   "id": "9706af72",
   "metadata": {},
   "source": [
    "# Show image by index"
   ]
  },
  {
   "cell_type": "code",
   "execution_count": 41,
   "id": "8331cd1d",
   "metadata": {},
   "outputs": [],
   "source": [
    "def show_final_image(index):\n",
    "    plt.imshow(train_data[index])"
   ]
  },
  {
   "cell_type": "code",
   "execution_count": 42,
   "id": "d469ab96",
   "metadata": {},
   "outputs": [
    {
     "data": {
      "image/png": "[encoded data removed]",
      "text/plain": [
       "<Figure size 432x288 with 1 Axes>"
      ]
     },
     "metadata": {
      "needs_background": "light"
     },
     "output_type": "display_data"
    }
   ],
   "source": [
    "show_final_image(4)"
   ]
  }
 ],
 "metadata": {
  "kernelspec": {
   "display_name": "Python 3",
   "language": "python",
   "name": "python3"
  },
  "language_info": {
   "codemirror_mode": {
    "name": "ipython",
    "version": 3
   },
   "file_extension": ".py",
   "mimetype": "text/x-python",
   "name": "python",
   "nbconvert_exporter": "python",
   "pygments_lexer": "ipython3",
   "version": "3.8.10"
  }
 },
 "nbformat": 4,
 "nbformat_minor": 5
}
