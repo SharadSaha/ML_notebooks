{
  "cells": [
    {
      "cell_type": "markdown",
      "id": "70c140fe",
      "metadata": {
        "id": "70c140fe"
      },
      "source": [
        "# MNIST DATASET"
      ]
    },
    {
      "cell_type": "markdown",
      "id": "c5006230",
      "metadata": {
        "id": "c5006230"
      },
      "source": [
        "# Defining the model"
      ]
    },
    {
      "cell_type": "code",
      "execution_count": null,
      "id": "7bb2ee75",
      "metadata": {
        "colab": {
          "base_uri": "https://localhost:8080/"
        },
        "id": "7bb2ee75",
        "outputId": "cba46bc2-0533-4ea5-dbfe-3f6151135efb"
      },
      "outputs": [
        {
          "name": "stdout",
          "output_type": "stream",
          "text": [
            "<dtype: 'float32'> <dtype: 'float32'> <dtype: 'float32'> <dtype: 'float32'>\n",
            "loss = nan acc=0.09799999743700027 "
          ]
        }
      ],
      "source": [
        "import sys\n",
        "import tensorflow as tf\n",
        "import matplotlib.pyplot as plt\n",
        "from argparse import ArgumentParser\n",
        "import tensorflow_probability as tfp\n",
        "import copy\n",
        "import math\n",
        "class linear_classifier:\n",
        "    def __init__(self,trainable_weights,trainable_biases):\n",
        "        self.trainable_weights=tf.Variable(trainable_weights,dtype=tf.float32)\n",
        "        self.trainable_biases=tf.Variable(trainable_biases,dtype=tf.float32)\n",
        "        self.optimizer=tf.keras.optimizers.Adam(epsilon=1e-5)   \n",
        "        self.activation=tfp.bijectors.NormalCDF()\n",
        "        self.loss=tf.keras.losses.CategoricalCrossentropy()\n",
        "        self.best_weights=tf.Variable(trainable_weights,dtype=tf.float32)\n",
        "        self.best_bias=tf.Variable(trainable_biases,dtype=tf.float32)\n",
        "                                                        \t\n",
        "    @tf.function    \n",
        "    def\tpredict(self,input_data):\n",
        "        x=tf.linalg.matmul(input_data,self.trainable_weights)+self.trainable_biases\n",
        "        return self.activation(x)\n",
        "    \n",
        "    @tf.function\n",
        "    def update_parameters(self,data,label):\n",
        "        loss=lambda:self.loss(label,self.predict(data))\n",
        "        self.optimizer.minimize(loss,[self.trainable_weights,self.trainable_biases])\n",
        "\t\n",
        "    def train(self,epochs,train_data,train_label,test_data,test_label):\n",
        "            decline=0\t\n",
        "            prev_acc=0\t\t\t\t\t\t\t\t\t\t\t\t\t\t\t  \n",
        "            for ep in range(epochs):\n",
        "                if decline>8:\n",
        "                    break\n",
        "                self.update_parameters(train_data,train_label)\n",
        "                if ep%100==0:\n",
        "                    loss,acc=self.test(test_data,test_label)\n",
        "                    if acc>prev_acc:\n",
        "                        self.best_weights.assign(self.trainable_weights)\n",
        "                        self.best_bias.assign(self.trainable_biases)\n",
        "                    else:\n",
        "                        decline+=1\n",
        "                    tf.print(\"\\rloss = {} acc={} \".format(loss,acc),end=\"\")\n",
        "                    prev_acc=acc\n",
        "\n",
        "    @tf.function\n",
        "    def test(self,test_data,test_labels):\n",
        "            predictions=self.predict(test_data)\n",
        "            loss=self.loss(predictions,test_labels)\n",
        "            acc=tf.cast(tf.equal(tf.argmax(predictions,axis=1),tf.argmax(test_labels,axis=1)),dtype=tf.float32)\n",
        "            return loss,tf.reduce_mean(acc)\n",
        "            \n",
        "\n",
        "def init_model_parameters():\n",
        "\ttrainable_weights=tf.random.normal(shape=[784,10],mean=0,stddev=1,seed=12)\n",
        "\ttrainable_biases=tf.random.normal(shape=[10],mean=0,stddev=1,seed=12)\n",
        "\treturn (trainable_weights,trainable_biases)\t\t\n",
        "\n",
        "if __name__=='__main__':\n",
        "\n",
        "    (train_data,train_label),(test_data,test_label)=tf.keras.datasets.mnist.load_data()\n",
        "    (trainable_weights,trainable_biases)=init_model_parameters()\n",
        "    train_label=tf.one_hot(train_label,depth=10)\n",
        "    test_label=tf.one_hot(test_label,depth=10)\n",
        "    train_data=tf.cast(tf.reshape((train_data/255),shape=[-1,28*28]),dtype=tf.float32)\n",
        "    test_data=tf.cast(tf.reshape((test_data/255),shape=[-1,28*28]),dtype=tf.float32)\n",
        "    print(train_data.dtype,test_data.dtype,train_label.dtype,test_label.dtype)\n",
        "    classifier=linear_classifier(trainable_weights,trainable_biases)\n",
        "    classifier.train(500000,train_data,train_label,test_data,test_label)\n",
        "    \n"
      ]
    },
    {
      "cell_type": "markdown",
      "id": "gjBsq-r-asUC",
      "metadata": {
        "id": "gjBsq-r-asUC"
      },
      "source": [
        "# **Retrieve best weights**"
      ]
    },
    {
      "cell_type": "code",
      "execution_count": null,
      "id": "L1i91I3VMVDu",
      "metadata": {
        "colab": {
          "base_uri": "https://localhost:8080/"
        },
        "id": "L1i91I3VMVDu",
        "outputId": "85876ffd-8be5-49ef-d9a1-d597b2099936"
      },
      "outputs": [
        {
          "name": "stdout",
          "output_type": "stream",
          "text": [
            "loss=1.697241187095642 acc=0.9140999913215637\n"
          ]
        }
      ],
      "source": [
        "classifier.trainable_weights.assign(classifier.best_weights)\n",
        "classifier.trainable_biases.assign(classifier.best_bias)\n",
        "tf.print(\"loss={} acc={}\".format(*classifier.test(test_data,test_label)))"
      ]
    }
  ],
  "metadata": {
    "accelerator": "GPU",
    "colab": {
      "collapsed_sections": [],
      "name": "normal_cdf.ipynb",
      "provenance": []
    },
    "kernelspec": {
      "display_name": "Python 3",
      "language": "python",
      "name": "python3"
    },
    "language_info": {
      "codemirror_mode": {
        "name": "ipython",
        "version": 3
      },
      "file_extension": ".py",
      "mimetype": "text/x-python",
      "name": "python",
      "nbconvert_exporter": "python",
      "pygments_lexer": "ipython3",
      "version": "3.8.10"
    }
  },
  "nbformat": 4,
  "nbformat_minor": 5
}
