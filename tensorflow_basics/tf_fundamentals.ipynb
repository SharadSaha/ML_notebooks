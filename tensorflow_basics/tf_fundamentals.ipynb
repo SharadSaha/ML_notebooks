{
  "cells": [
    {
      "cell_type": "markdown",
      "metadata": {
        "id": "uqVJe5QBXVR3"
      },
      "source": [
        "# **Tensorflow**"
      ]
    },
    {
      "cell_type": "code",
      "execution_count": 2,
      "metadata": {
        "colab": {
          "base_uri": "https://localhost:8080/",
          "height": 35
        },
        "id": "0eB3UztGL541",
        "outputId": "263061a4-9fc8-4dbc-e966-57bf5a6b3623"
      },
      "outputs": [
        {
          "data": {
            "application/vnd.google.colaboratory.intrinsic+json": {
              "type": "string"
            },
            "text/plain": [
              "'2.7.0'"
            ]
          },
          "execution_count": 2,
          "metadata": {},
          "output_type": "execute_result"
        }
      ],
      "source": [
        "import tensorflow as tf\n",
        "tf.__version__"
      ]
    },
    {
      "cell_type": "markdown",
      "metadata": {
        "id": "mVVNQbySZGWW"
      },
      "source": [
        "### **A tensor is a generalization of vectors and matrices and is easily understood as a multidimensional array.**"
      ]
    },
    {
      "cell_type": "markdown",
      "metadata": {
        "id": "qfvk6G2qWRTN"
      },
      "source": [
        "**Creating scalars and vectors with tf.constant()**\n",
        "\n",
        "---\n",
        "\n",
        "\n",
        "\n",
        "*   Can't be modified using tf.assign()\n"
      ]
    },
    {
      "cell_type": "markdown",
      "metadata": {
        "id": "fGLWeA7-aZ1v"
      },
      "source": [
        "Tensor created with tf.constant() can't be modified using tf.assign()"
      ]
    },
    {
      "cell_type": "code",
      "execution_count": 3,
      "metadata": {
        "colab": {
          "base_uri": "https://localhost:8080/"
        },
        "id": "16IN3SqsWP55",
        "outputId": "af278082-f730-4cfd-d2f4-a41c08a48f8c"
      },
      "outputs": [
        {
          "data": {
            "text/plain": [
              "<tf.Tensor: shape=(), dtype=int32, numpy=10>"
            ]
          },
          "execution_count": 3,
          "metadata": {},
          "output_type": "execute_result"
        }
      ],
      "source": [
        "scalar = tf.constant(10)\n",
        "scalar\n",
        "\n",
        "# scalar doesn't have any shape, i.e shape 0"
      ]
    },
    {
      "cell_type": "code",
      "execution_count": 4,
      "metadata": {
        "colab": {
          "base_uri": "https://localhost:8080/"
        },
        "id": "kyqHEj9WWHfT",
        "outputId": "73f08ea9-e166-422f-b538-addd997cd9ae"
      },
      "outputs": [
        {
          "data": {
            "text/plain": [
              "<tf.Tensor: shape=(2,), dtype=int32, numpy=array([10, 10], dtype=int32)>"
            ]
          },
          "execution_count": 4,
          "metadata": {},
          "output_type": "execute_result"
        }
      ],
      "source": [
        "vector = tf.constant([10,10]) # pass a list to create vector\n",
        "vector\n",
        "\n",
        "# vector will have shape"
      ]
    },
    {
      "cell_type": "code",
      "execution_count": 5,
      "metadata": {
        "colab": {
          "base_uri": "https://localhost:8080/"
        },
        "id": "6n3kSpPfWpHR",
        "outputId": "ad2b65ec-473e-4c7b-ed30-eb05aac403b7"
      },
      "outputs": [
        {
          "data": {
            "text/plain": [
              "1"
            ]
          },
          "execution_count": 5,
          "metadata": {},
          "output_type": "execute_result"
        }
      ],
      "source": [
        "# number of dimensions in vector\n",
        "vector.ndim"
      ]
    },
    {
      "cell_type": "markdown",
      "metadata": {
        "id": "Lg4yvr8-W6FO"
      },
      "source": [
        "**Creating a matrix**"
      ]
    },
    {
      "cell_type": "code",
      "execution_count": 6,
      "metadata": {
        "colab": {
          "base_uri": "https://localhost:8080/"
        },
        "id": "MlEtZ9-qW2ct",
        "outputId": "f4936ea9-76b3-4492-93fe-3e73d8aebe86"
      },
      "outputs": [
        {
          "data": {
            "text/plain": [
              "<tf.Tensor: shape=(3, 3), dtype=int32, numpy=\n",
              "array([[1, 2, 3],\n",
              "       [4, 2, 1],\n",
              "       [9, 8, 7]], dtype=int32)>"
            ]
          },
          "execution_count": 6,
          "metadata": {},
          "output_type": "execute_result"
        }
      ],
      "source": [
        "matrix = tf.constant([[1,2,3],[4,2,1],[9,8,7]])\n",
        "matrix"
      ]
    },
    {
      "cell_type": "code",
      "execution_count": 7,
      "metadata": {
        "colab": {
          "base_uri": "https://localhost:8080/"
        },
        "id": "UK5ZKlSkXGOU",
        "outputId": "d68288b8-a090-4578-a91f-45230f1355c8"
      },
      "outputs": [
        {
          "name": "stdout",
          "output_type": "stream",
          "text": [
            "(3, 3)\n",
            "2\n"
          ]
        }
      ],
      "source": [
        "print(matrix.shape)\n",
        "print(matrix.ndim)"
      ]
    },
    {
      "cell_type": "code",
      "execution_count": 8,
      "metadata": {
        "colab": {
          "base_uri": "https://localhost:8080/"
        },
        "id": "TcVPUMNHXOQH",
        "outputId": "acdd27c7-1b7d-422f-dd0a-166baaa2b9dd"
      },
      "outputs": [
        {
          "name": "stdout",
          "output_type": "stream",
          "text": [
            "(2, 2, 3)\n",
            "3\n",
            "tf.Tensor(\n",
            "[[[1. 2. 3.]\n",
            "  [4. 5. 6.]]\n",
            "\n",
            " [[4. 3. 6.]\n",
            "  [7. 6. 4.]]], shape=(2, 2, 3), dtype=float32)\n"
          ]
        }
      ],
      "source": [
        "mat = tf.constant([[[1,2,3],[4,5,6]],[[4,3,6],[7,6,4]]],dtype=tf.float32) # write tf.float32 to specify datatype in dtype as parameter\n",
        "print(mat.shape)\n",
        "print(mat.ndim)\n",
        "print(mat) # 3 dimensional matrix"
      ]
    },
    {
      "cell_type": "markdown",
      "metadata": {
        "id": "QSMtcfZKZZrw"
      },
      "source": [
        "**Creating tensors with tf.Variable**\n",
        "\n",
        "---\n",
        "\n",
        "\n",
        "\n",
        "*   Can be modified using tf.assign()\n",
        "\n"
      ]
    },
    {
      "cell_type": "code",
      "execution_count": 9,
      "metadata": {
        "colab": {
          "base_uri": "https://localhost:8080/"
        },
        "id": "7D4fCkwhYFmm",
        "outputId": "28f9e734-d85f-45d1-c42a-6c767ad7009a"
      },
      "outputs": [
        {
          "data": {
            "text/plain": [
              "<tf.Variable 'Variable:0' shape=(4,) dtype=int32, numpy=array([1, 2, 3, 4], dtype=int32)>"
            ]
          },
          "execution_count": 9,
          "metadata": {},
          "output_type": "execute_result"
        }
      ],
      "source": [
        "vector = tf.Variable([1,2,3,4])\n",
        "vector"
      ]
    },
    {
      "cell_type": "code",
      "execution_count": 10,
      "metadata": {
        "colab": {
          "base_uri": "https://localhost:8080/"
        },
        "id": "3kujyLeiZ1F8",
        "outputId": "c9a84b45-da85-4160-f635-f54a8876d90e"
      },
      "outputs": [
        {
          "data": {
            "text/plain": [
              "<tf.Variable 'Variable:0' shape=(4,) dtype=int32, numpy=array([7, 2, 3, 4], dtype=int32)>"
            ]
          },
          "execution_count": 10,
          "metadata": {},
          "output_type": "execute_result"
        }
      ],
      "source": [
        "vector[0].assign(7) # vector modified\n",
        "vector"
      ]
    },
    {
      "cell_type": "markdown",
      "metadata": {
        "id": "B2ploqFqL2G0"
      },
      "source": [
        "**tf.ones() and tf.zeros**"
      ]
    },
    {
      "cell_type": "code",
      "execution_count": 14,
      "metadata": {
        "colab": {
          "base_uri": "https://localhost:8080/"
        },
        "id": "TiGXFnHoL9G6",
        "outputId": "8398caec-f948-4a3c-c812-fa82cd088c32"
      },
      "outputs": [
        {
          "data": {
            "text/plain": [
              "<tf.Tensor: shape=(8, 4), dtype=int32, numpy=\n",
              "array([[1, 1, 1, 1],\n",
              "       [1, 1, 1, 1],\n",
              "       [1, 1, 1, 1],\n",
              "       [1, 1, 1, 1],\n",
              "       [1, 1, 1, 1],\n",
              "       [1, 1, 1, 1],\n",
              "       [1, 1, 1, 1],\n",
              "       [1, 1, 1, 1]], dtype=int32)>"
            ]
          },
          "execution_count": 14,
          "metadata": {},
          "output_type": "execute_result"
        }
      ],
      "source": [
        "tf.ones(shape=[8,4],dtype=tf.int32) # pass the shape and datatype to create an array of ones"
      ]
    },
    {
      "cell_type": "code",
      "execution_count": 15,
      "metadata": {
        "colab": {
          "base_uri": "https://localhost:8080/"
        },
        "id": "E4E0xLSXMkEL",
        "outputId": "1a7397ec-2254-4d37-9564-a9932c6a1452"
      },
      "outputs": [
        {
          "data": {
            "text/plain": [
              "<tf.Tensor: shape=(8, 4), dtype=float64, numpy=\n",
              "array([[0., 0., 0., 0.],\n",
              "       [0., 0., 0., 0.],\n",
              "       [0., 0., 0., 0.],\n",
              "       [0., 0., 0., 0.],\n",
              "       [0., 0., 0., 0.],\n",
              "       [0., 0., 0., 0.],\n",
              "       [0., 0., 0., 0.],\n",
              "       [0., 0., 0., 0.]])>"
            ]
          },
          "execution_count": 15,
          "metadata": {},
          "output_type": "execute_result"
        }
      ],
      "source": [
        "tf.zeros(shape=[8,4],dtype=tf.double)"
      ]
    },
    {
      "cell_type": "markdown",
      "metadata": {
        "id": "VMi4bY2eNHgc"
      },
      "source": [
        "### **Creating tensor from numpy array**\n",
        "\n",
        "---\n",
        "\n",
        "> The difference between a NumPy array and a tensor is that the tensors are backed by the accelerator memory like GPU and they are immutable, unlike NumPy arrays."
      ]
    },
    {
      "cell_type": "code",
      "execution_count": 18,
      "metadata": {
        "colab": {
          "base_uri": "https://localhost:8080/"
        },
        "id": "eA3q85dkNNuU",
        "outputId": "88ceb8c7-5b13-437f-a7fc-6d2d593a9be9"
      },
      "outputs": [
        {
          "data": {
            "text/plain": [
              "array([ 1.,  2.,  3.,  4.,  5.,  6.,  7.,  8.,  9., 10., 11., 12., 13.,\n",
              "       14., 15., 16., 17., 18., 19., 20., 21., 22., 23., 24., 25., 26.,\n",
              "       27., 28., 29., 30., 31., 32., 33., 34., 35., 36., 37., 38., 39.,\n",
              "       40., 41., 42., 43., 44., 45., 46., 47., 48., 49.], dtype=float32)"
            ]
          },
          "execution_count": 18,
          "metadata": {},
          "output_type": "execute_result"
        }
      ],
      "source": [
        "import numpy as np\n",
        "arr=np.arange(1,50,dtype=np.float32)\n",
        "arr"
      ]
    },
    {
      "cell_type": "code",
      "execution_count": 19,
      "metadata": {
        "colab": {
          "base_uri": "https://localhost:8080/"
        },
        "id": "xP4wXv7vNoxM",
        "outputId": "54c2397c-972d-4884-c297-5476f416b29c"
      },
      "outputs": [
        {
          "data": {
            "text/plain": [
              "<tf.Tensor: shape=(49,), dtype=float32, numpy=\n",
              "array([ 1.,  2.,  3.,  4.,  5.,  6.,  7.,  8.,  9., 10., 11., 12., 13.,\n",
              "       14., 15., 16., 17., 18., 19., 20., 21., 22., 23., 24., 25., 26.,\n",
              "       27., 28., 29., 30., 31., 32., 33., 34., 35., 36., 37., 38., 39.,\n",
              "       40., 41., 42., 43., 44., 45., 46., 47., 48., 49.], dtype=float32)>"
            ]
          },
          "execution_count": 19,
          "metadata": {},
          "output_type": "execute_result"
        }
      ],
      "source": [
        "tf.constant(arr)"
      ]
    },
    {
      "cell_type": "code",
      "execution_count": 20,
      "metadata": {
        "colab": {
          "base_uri": "https://localhost:8080/"
        },
        "id": "sjbetBWJNtgc",
        "outputId": "d69779c7-6a8f-4599-ad42-d8a56349f665"
      },
      "outputs": [
        {
          "data": {
            "text/plain": [
              "<tf.Variable 'Variable:0' shape=(49,) dtype=float32, numpy=\n",
              "array([ 1.,  2.,  3.,  4.,  5.,  6.,  7.,  8.,  9., 10., 11., 12., 13.,\n",
              "       14., 15., 16., 17., 18., 19., 20., 21., 22., 23., 24., 25., 26.,\n",
              "       27., 28., 29., 30., 31., 32., 33., 34., 35., 36., 37., 38., 39.,\n",
              "       40., 41., 42., 43., 44., 45., 46., 47., 48., 49.], dtype=float32)>"
            ]
          },
          "execution_count": 20,
          "metadata": {},
          "output_type": "execute_result"
        }
      ],
      "source": [
        "tf.Variable(arr)"
      ]
    },
    {
      "cell_type": "markdown",
      "metadata": {
        "id": "d8b7DIyhcrU0"
      },
      "source": [
        "### **Generating random tensors based on random seed**\n",
        "\n",
        "---\n",
        "\n",
        "\n",
        "*  A random seed specifies the start point when a computer generates a random number sequence. This can be any number, but it usually comes from seconds on a computer system’s clock (Henkemans & Lee, 2001).\n",
        "\n",
        "*  tf.random.Generator creates a random number generator which gives us output based on distriutions specified.\n",
        "\n"
      ]
    },
    {
      "cell_type": "code",
      "execution_count": 12,
      "metadata": {
        "colab": {
          "base_uri": "https://localhost:8080/"
        },
        "id": "mvO1X0ByazUl",
        "outputId": "b36e7a8b-0a9d-4c48-fdc9-c5000714ebc6"
      },
      "outputs": [
        {
          "name": "stdout",
          "output_type": "stream",
          "text": [
            "tf.Tensor(\n",
            "[[-0.29604465 -0.21134205]\n",
            " [ 0.01063002  1.5165398 ]\n",
            " [ 0.27305737 -0.29925638]], shape=(3, 2), dtype=float32)\n",
            "tf.Tensor(\n",
            "[[0.8531755  0.3475517  0.609745  ]\n",
            " [0.54769015 0.29646897 0.8380779 ]\n",
            " [0.3831421  0.447253   0.71238863]\n",
            " [0.45246387 0.06598949 0.77288103]], shape=(4, 3), dtype=float32)\n"
          ]
        }
      ],
      "source": [
        "random_generator = tf.random.Generator.from_seed(10)\n",
        "tensor1=random_generator.normal(shape=(3,2))\n",
        "tensor2=random_generator.uniform(shape=(4,3)) # these tensors are immutable, i.e tf.assign() can't be used \n",
        "print(tensor1)\n",
        "print(tensor2)"
      ]
    },
    {
      "cell_type": "markdown",
      "metadata": {
        "id": "33Yz-_cFe-OG"
      },
      "source": [
        "### **Shuffling the order of tensor**\n",
        "\n",
        "---\n"
      ]
    },
    {
      "cell_type": "code",
      "execution_count": 13,
      "metadata": {
        "colab": {
          "base_uri": "https://localhost:8080/"
        },
        "id": "n8Y0xRj9d7HV",
        "outputId": "2df1cc16-64c4-4f85-cb88-91a7d145e5ba"
      },
      "outputs": [
        {
          "data": {
            "text/plain": [
              "<tf.Tensor: shape=(3, 2), dtype=float32, numpy=\n",
              "array([[-0.29604465, -0.21134205],\n",
              "       [ 0.01063002,  1.5165398 ],\n",
              "       [ 0.27305737, -0.29925638]], dtype=float32)>"
            ]
          },
          "execution_count": 13,
          "metadata": {},
          "output_type": "execute_result"
        }
      ],
      "source": [
        "# Global level seed (using set_seed)\n",
        "tf.random.set_seed(42) # if we set seed, the output won't change on running multiple times\n",
        "\n",
        "# Operational level seed (used as parameter)\n",
        "x=tf.random.shuffle(tensor1,seed=42) \n",
        "x"
      ]
    },
    {
      "cell_type": "markdown",
      "metadata": {
        "id": "yiV7d1LKRYi1"
      },
      "source": [
        "### **Tensor attributes**\n",
        "\n",
        "---\n",
        "\n",
        "\n",
        "\n",
        "\n",
        "*   Shape of a tensor (length of each dimension that a tensor has)\n",
        "*   Rank of a tensor (The number of dimensions a tensor has)\n",
        "*   Axis or dimension of a tensor\n",
        "*   Size of a tensor (total number of items in it)\n",
        "*   Data type of each element present in the tensor\n",
        "\n",
        "\n",
        "\n"
      ]
    },
    {
      "cell_type": "code",
      "execution_count": 21,
      "metadata": {
        "colab": {
          "base_uri": "https://localhost:8080/"
        },
        "id": "EwwLwL9tePdg",
        "outputId": "d7c8941d-3e9d-4560-8d37-ec245254a003"
      },
      "outputs": [
        {
          "data": {
            "text/plain": [
              "<tf.Tensor: shape=(3, 4, 3, 5), dtype=float32, numpy=\n",
              "array([[[[0., 0., 0., 0., 0.],\n",
              "         [0., 0., 0., 0., 0.],\n",
              "         [0., 0., 0., 0., 0.]],\n",
              "\n",
              "        [[0., 0., 0., 0., 0.],\n",
              "         [0., 0., 0., 0., 0.],\n",
              "         [0., 0., 0., 0., 0.]],\n",
              "\n",
              "        [[0., 0., 0., 0., 0.],\n",
              "         [0., 0., 0., 0., 0.],\n",
              "         [0., 0., 0., 0., 0.]],\n",
              "\n",
              "        [[0., 0., 0., 0., 0.],\n",
              "         [0., 0., 0., 0., 0.],\n",
              "         [0., 0., 0., 0., 0.]]],\n",
              "\n",
              "\n",
              "       [[[0., 0., 0., 0., 0.],\n",
              "         [0., 0., 0., 0., 0.],\n",
              "         [0., 0., 0., 0., 0.]],\n",
              "\n",
              "        [[0., 0., 0., 0., 0.],\n",
              "         [0., 0., 0., 0., 0.],\n",
              "         [0., 0., 0., 0., 0.]],\n",
              "\n",
              "        [[0., 0., 0., 0., 0.],\n",
              "         [0., 0., 0., 0., 0.],\n",
              "         [0., 0., 0., 0., 0.]],\n",
              "\n",
              "        [[0., 0., 0., 0., 0.],\n",
              "         [0., 0., 0., 0., 0.],\n",
              "         [0., 0., 0., 0., 0.]]],\n",
              "\n",
              "\n",
              "       [[[0., 0., 0., 0., 0.],\n",
              "         [0., 0., 0., 0., 0.],\n",
              "         [0., 0., 0., 0., 0.]],\n",
              "\n",
              "        [[0., 0., 0., 0., 0.],\n",
              "         [0., 0., 0., 0., 0.],\n",
              "         [0., 0., 0., 0., 0.]],\n",
              "\n",
              "        [[0., 0., 0., 0., 0.],\n",
              "         [0., 0., 0., 0., 0.],\n",
              "         [0., 0., 0., 0., 0.]],\n",
              "\n",
              "        [[0., 0., 0., 0., 0.],\n",
              "         [0., 0., 0., 0., 0.],\n",
              "         [0., 0., 0., 0., 0.]]]], dtype=float32)>"
            ]
          },
          "execution_count": 21,
          "metadata": {},
          "output_type": "execute_result"
        }
      ],
      "source": [
        "# Create a rank 4 tensor\n",
        "tensor = tf.zeros(shape=[3,4,3,5])\n",
        "tensor"
      ]
    },
    {
      "cell_type": "code",
      "execution_count": 23,
      "metadata": {
        "colab": {
          "base_uri": "https://localhost:8080/"
        },
        "id": "whQ9rA1CSsji",
        "outputId": "760c38f5-c823-4d2b-8f96-703eb28b03e5"
      },
      "outputs": [
        {
          "data": {
            "text/plain": [
              "(TensorShape([3, 4, 3, 5]),\n",
              " tf.float32,\n",
              " 4,\n",
              " <tf.Tensor: shape=(), dtype=int32, numpy=180>)"
            ]
          },
          "execution_count": 23,
          "metadata": {},
          "output_type": "execute_result"
        }
      ],
      "source": [
        "tensor.shape,tensor.dtype,tensor.ndim,tf.size(tensor) # shape, data type, rank, size respectively"
      ]
    },
    {
      "cell_type": "code",
      "execution_count": 26,
      "metadata": {
        "colab": {
          "base_uri": "https://localhost:8080/"
        },
        "id": "_J_fG6FSS7H6",
        "outputId": "c5ab59d6-5296-4732-f0b6-bdeda8401233"
      },
      "outputs": [
        {
          "data": {
            "text/plain": [
              "<tf.Tensor: shape=(2, 4, 3, 3), dtype=float32, numpy=\n",
              "array([[[[0., 0., 0.],\n",
              "         [0., 0., 0.],\n",
              "         [0., 0., 0.]],\n",
              "\n",
              "        [[0., 0., 0.],\n",
              "         [0., 0., 0.],\n",
              "         [0., 0., 0.]],\n",
              "\n",
              "        [[0., 0., 0.],\n",
              "         [0., 0., 0.],\n",
              "         [0., 0., 0.]],\n",
              "\n",
              "        [[0., 0., 0.],\n",
              "         [0., 0., 0.],\n",
              "         [0., 0., 0.]]],\n",
              "\n",
              "\n",
              "       [[[0., 0., 0.],\n",
              "         [0., 0., 0.],\n",
              "         [0., 0., 0.]],\n",
              "\n",
              "        [[0., 0., 0.],\n",
              "         [0., 0., 0.],\n",
              "         [0., 0., 0.]],\n",
              "\n",
              "        [[0., 0., 0.],\n",
              "         [0., 0., 0.],\n",
              "         [0., 0., 0.]],\n",
              "\n",
              "        [[0., 0., 0.],\n",
              "         [0., 0., 0.],\n",
              "         [0., 0., 0.]]]], dtype=float32)>"
            ]
          },
          "execution_count": 26,
          "metadata": {},
          "output_type": "execute_result"
        }
      ],
      "source": [
        "tensor[:2,:,:,:3] # slice for each dimension are seperated by commas (left->right higher->lower dimension)\n",
        "# [left_index:right_index,left_index:right_index,left_index:right_index,left_index:right_index]"
      ]
    },
    {
      "cell_type": "markdown",
      "metadata": {
        "id": "x6gst2whdsfY"
      },
      "source": [
        "**Converting rank 2 tensor to a rank 3 tensor**\n",
        "\n",
        "---\n"
      ]
    },
    {
      "cell_type": "code",
      "execution_count": 27,
      "metadata": {
        "colab": {
          "base_uri": "https://localhost:8080/"
        },
        "id": "XVd47GS_cYVz",
        "outputId": "5ead7612-7097-4e5c-8fd9-c17c2a03467a"
      },
      "outputs": [
        {
          "data": {
            "text/plain": [
              "<tf.Tensor: shape=(2, 3), dtype=int32, numpy=\n",
              "array([[1, 2, 3],\n",
              "       [6, 7, 8]], dtype=int32)>"
            ]
          },
          "execution_count": 27,
          "metadata": {},
          "output_type": "execute_result"
        }
      ],
      "source": [
        "rank2_tensor = tf.constant([[1,2,3],[6,7,8]])\n",
        "rank2_tensor"
      ]
    },
    {
      "cell_type": "code",
      "execution_count": 29,
      "metadata": {
        "colab": {
          "base_uri": "https://localhost:8080/"
        },
        "id": "h8vBGLsleIVV",
        "outputId": "5ab1bd5c-9f4b-4970-926c-0adcbc883f10"
      },
      "outputs": [
        {
          "data": {
            "text/plain": [
              "<tf.Tensor: shape=(2, 3, 1), dtype=int32, numpy=\n",
              "array([[[1],\n",
              "        [2],\n",
              "        [3]],\n",
              "\n",
              "       [[6],\n",
              "        [7],\n",
              "        [8]]], dtype=int32)>"
            ]
          },
          "execution_count": 29,
          "metadata": {},
          "output_type": "execute_result"
        }
      ],
      "source": [
        "# Method 1\n",
        "rank3_tensor=rank2_tensor[...,tf.newaxis] # add a new axis with all elements remaining same and only changing the shape\n",
        "rank3_tensor"
      ]
    },
    {
      "cell_type": "code",
      "execution_count": 34,
      "metadata": {
        "colab": {
          "base_uri": "https://localhost:8080/"
        },
        "id": "nDWWgfO3eVOE",
        "outputId": "9af009f4-a41b-40be-c59f-b41b77a02007"
      },
      "outputs": [
        {
          "data": {
            "text/plain": [
              "<tf.Tensor: shape=(1, 2, 3), dtype=int32, numpy=\n",
              "array([[[1, 2, 3],\n",
              "        [6, 7, 8]]], dtype=int32)>"
            ]
          },
          "execution_count": 34,
          "metadata": {},
          "output_type": "execute_result"
        }
      ],
      "source": [
        "# Method 2\n",
        "rank3_tensor=tf.expand_dims(rank2_tensor,axis=0) # add a new axis along the axis mentioned in axis parameter\n",
        "rank3_tensor"
      ]
    },
    {
      "cell_type": "markdown",
      "metadata": {
        "id": "r-sen_fugSdA"
      },
      "source": [
        "### **Basic mathematical operations**\n",
        "\n",
        "\n",
        "---\n",
        "\n"
      ]
    },
    {
      "cell_type": "code",
      "execution_count": 39,
      "metadata": {
        "colab": {
          "base_uri": "https://localhost:8080/"
        },
        "id": "wTMcXVUxfAhE",
        "outputId": "38776a5d-66e8-4e3e-e664-9e3e47371736"
      },
      "outputs": [
        {
          "name": "stdout",
          "output_type": "stream",
          "text": [
            "tf.Tensor(\n",
            "[[11 12 13]\n",
            " [14 15 16]], shape=(2, 3), dtype=int32)\n",
            "tf.Tensor(\n",
            "[[10 20 30]\n",
            " [40 50 60]], shape=(2, 3), dtype=int32)\n",
            "tf.Tensor(\n",
            "[[0.1 0.2 0.3]\n",
            " [0.4 0.5 0.6]], shape=(2, 3), dtype=float64)\n",
            "tf.Tensor(\n",
            "[[ 1  4  9]\n",
            " [16 25 36]], shape=(2, 3), dtype=int32)\n"
          ]
        }
      ],
      "source": [
        "# the math operation will get applied on each element of the tensor\n",
        "tensor = tf.constant([[1,2,3],[4,5,6]])\n",
        "print(tensor+10)\n",
        "print(tensor*10)\n",
        "print(tensor/10)\n",
        "print(tensor*tensor) #squares each tensor element"
      ]
    },
    {
      "cell_type": "markdown",
      "metadata": {
        "id": "5vdp4mmOihgP"
      },
      "source": [
        "## **Matrix multiplication**\n",
        "\n",
        "\n",
        "---\n",
        "\n",
        "\n",
        "> Matrix multiplication is done with **tf.linalg.matmul** or **tf.tensordot** or using `@` operator\n",
        "\n",
        "\n",
        "\n"
      ]
    },
    {
      "cell_type": "code",
      "execution_count": 42,
      "metadata": {
        "colab": {
          "base_uri": "https://localhost:8080/"
        },
        "id": "Dd7Eqi9PgjOl",
        "outputId": "45397970-e25a-47a2-899d-d98d948ebbff"
      },
      "outputs": [
        {
          "data": {
            "text/plain": [
              "<tf.Tensor: shape=(2, 2), dtype=int32, numpy=\n",
              "array([[22, 28],\n",
              "       [49, 64]], dtype=int32)>"
            ]
          },
          "execution_count": 42,
          "metadata": {},
          "output_type": "execute_result"
        }
      ],
      "source": [
        "tensor1=[[1,2,3],[4,5,6]]\n",
        "tensor2=[[1,2],[3,4],[5,6]]\n",
        "ans = tf.linalg.matmul(tensor1,tensor2) # matrix dimensions should be compatible (r*c,c*s)\n",
        "ans"
      ]
    },
    {
      "cell_type": "markdown",
      "metadata": {
        "id": "yq3TyQ9IkChe"
      },
      "source": [
        "## **Reshaping a tensor, transpose**\n",
        "\n",
        "\n",
        "---\n",
        "\n",
        "> Reshaping a tensor is done by **tf.reshape()**\n",
        "\n"
      ]
    },
    {
      "cell_type": "code",
      "execution_count": 45,
      "metadata": {
        "colab": {
          "base_uri": "https://localhost:8080/"
        },
        "id": "FYp_bvBijGgt",
        "outputId": "6e987812-cb4b-4b0a-a6b1-89f7137bd252"
      },
      "outputs": [
        {
          "name": "stdout",
          "output_type": "stream",
          "text": [
            "tf.Tensor(\n",
            "[[ 1  2  3  4 12  3]\n",
            " [ 5  6  7  8  8 10]], shape=(2, 6), dtype=int32)\n",
            "tf.Tensor(\n",
            "[[ 1 12  7]\n",
            " [ 2  3  8]\n",
            " [ 3  5  8]\n",
            " [ 4  6 10]], shape=(4, 3), dtype=int32)\n"
          ]
        }
      ],
      "source": [
        "tensor=tf.constant([[1,2,3,4],[12,3,5,6],[7,8,8,10]])\n",
        "print(tf.reshape(tensor,shape=(2,6)))\n",
        "\n",
        "# Transpose of a tensor\n",
        "print(tf.transpose(tensor))"
      ]
    },
    {
      "cell_type": "markdown",
      "metadata": {
        "id": "hYTtNvUspmPf"
      },
      "source": [
        "**Changing data type using tf.cast**\n",
        "\n",
        "---\n"
      ]
    },
    {
      "cell_type": "code",
      "execution_count": 47,
      "metadata": {
        "colab": {
          "base_uri": "https://localhost:8080/"
        },
        "id": "uI3aJrYskvjF",
        "outputId": "3c997e01-ee21-4074-ad6a-109dc35547e0"
      },
      "outputs": [
        {
          "data": {
            "text/plain": [
              "<tf.Tensor: shape=(3, 4), dtype=float32, numpy=\n",
              "array([[ 1.,  2.,  3.,  4.],\n",
              "       [12.,  3.,  5.,  6.],\n",
              "       [ 7.,  8.,  8., 10.]], dtype=float32)>"
            ]
          },
          "execution_count": 47,
          "metadata": {},
          "output_type": "execute_result"
        }
      ],
      "source": [
        "new_dtype_tensor = tf.cast(tensor,dtype=tf.float32)\n",
        "new_dtype_tensor"
      ]
    },
    {
      "cell_type": "markdown",
      "metadata": {
        "id": "uQoaZ3YmtgQ3"
      },
      "source": [
        "### **Getting min,max,mean,sum and abs of a tensor**\n",
        "\n",
        "---"
      ]
    },
    {
      "cell_type": "code",
      "execution_count": 49,
      "metadata": {
        "colab": {
          "base_uri": "https://localhost:8080/"
        },
        "id": "vOt5S8MrpzWU",
        "outputId": "1f766293-39ac-47f3-f49d-053ad099e4ad"
      },
      "outputs": [
        {
          "data": {
            "text/plain": [
              "<tf.Tensor: shape=(30,), dtype=int64, numpy=\n",
              "array([-49,  47, -21, -28, -19,  32,  20,  21,  16,  14, -32, -38, -50,\n",
              "        -3,  23, -19,  40,   7,  37,  19,  27,  44,   1,  -8,  27, -40,\n",
              "       -16,  34, -48,  37])>"
            ]
          },
          "execution_count": 49,
          "metadata": {},
          "output_type": "execute_result"
        }
      ],
      "source": [
        "tensor=tf.constant(np.random.randint(-50,50,size=30))\n",
        "tensor"
      ]
    },
    {
      "cell_type": "code",
      "execution_count": 62,
      "metadata": {
        "colab": {
          "base_uri": "https://localhost:8080/"
        },
        "id": "4zT2tjHNt1Xc",
        "outputId": "4515e2b7-e755-418a-f038-f2906671f9a4"
      },
      "outputs": [
        {
          "name": "stdout",
          "output_type": "stream",
          "text": [
            "abs:  [49 47 21 28 19 32 20 21 16 14 32 38 50  3 23 19 40  7 37 19 27 44  1  8\n",
            " 27 40 16 34 48 37]\n",
            "min:  -50\n",
            "max:  47\n",
            "mean:  2\n",
            "sum:  75\n",
            "position of max element: 1\n",
            "position of min element: 12\n"
          ]
        }
      ],
      "source": [
        "print(\"abs: \",tf.abs(tensor).numpy())\n",
        "print(\"min: \",tf.reduce_min(tensor).numpy())\n",
        "print(\"max: \",tf.reduce_max(tensor).numpy())\n",
        "print(\"mean: \",tf.reduce_mean(tensor).numpy())\n",
        "print(\"sum: \",tf.reduce_sum(tensor).numpy())\n",
        "\n",
        "# argmax and argmin return the position of the maximum and minimum elements respectively\n",
        "print(\"position of max element:\",tf.argmax(tensor).numpy())\n",
        "print(\"position of min element:\",tf.argmin(tensor).numpy())"
      ]
    },
    {
      "cell_type": "markdown",
      "metadata": {
        "id": "q_yDo2Liu0lO"
      },
      "source": [
        "**Finding the variance (tfp.math.reduce_variance())**"
      ]
    },
    {
      "cell_type": "code",
      "execution_count": 60,
      "metadata": {
        "colab": {
          "base_uri": "https://localhost:8080/"
        },
        "id": "ZalH9lAcuSBM",
        "outputId": "2c089269-8a07-4b4e-a265-1e0b014fe349"
      },
      "outputs": [
        {
          "name": "stdout",
          "output_type": "stream",
          "text": [
            "923.85\n"
          ]
        }
      ],
      "source": [
        "variance = tf.math.reduce_variance(tf.cast(tensor,dtype=tf.float32))\n",
        "print(variance.numpy())"
      ]
    },
    {
      "cell_type": "markdown",
      "metadata": {
        "id": "APdvBuGCvnO2"
      },
      "source": [
        "**Standard deviation using tf.math.reduce_std() (dtype should be float)**"
      ]
    },
    {
      "cell_type": "code",
      "execution_count": 56,
      "metadata": {
        "colab": {
          "base_uri": "https://localhost:8080/"
        },
        "id": "KT9d0cZUvFO0",
        "outputId": "023e3bb9-136a-441c-fee0-984123365454"
      },
      "outputs": [
        {
          "name": "stdout",
          "output_type": "stream",
          "text": [
            "30.394901\n"
          ]
        }
      ],
      "source": [
        "std = tf.math.reduce_std(tf.cast(tensor,dtype=tf.float32))\n",
        "print(std.numpy())"
      ]
    },
    {
      "cell_type": "markdown",
      "metadata": {
        "id": "5z0eX-ikyuuv"
      },
      "source": [
        "**Squeezing a tensor**\n",
        "\n",
        "---\n",
        "\n",
        "> Remove all the singular dimensions in the tensor\n",
        "\n"
      ]
    },
    {
      "cell_type": "code",
      "execution_count": 64,
      "metadata": {
        "colab": {
          "base_uri": "https://localhost:8080/"
        },
        "id": "DWDZk0RXv4tD",
        "outputId": "eb59fbe6-3147-407a-922a-37e1c69af7f7"
      },
      "outputs": [
        {
          "data": {
            "text/plain": [
              "(<tf.Tensor: shape=(1, 1, 1, 20), dtype=float32, numpy=\n",
              " array([[[[ 8.4224582e-02, -8.6090374e-01,  3.7812304e-01,\n",
              "           -5.1962738e-03, -4.9453196e-01,  6.1781919e-01,\n",
              "           -3.3082047e-01, -1.3840806e-03, -4.2373410e-01,\n",
              "           -1.3872087e+00, -1.5488191e+00, -5.3198391e-01,\n",
              "           -4.4756433e-01, -2.0115814e+00, -5.7926011e-01,\n",
              "            5.7938927e-01,  1.3041967e+00,  6.7720258e-01,\n",
              "           -7.4587613e-01,  1.0378964e+00]]]], dtype=float32)>,\n",
              " TensorShape([1, 1, 1, 20]))"
            ]
          },
          "execution_count": 64,
          "metadata": {},
          "output_type": "execute_result"
        }
      ],
      "source": [
        "tensor=tf.constant(tf.random.normal(shape=[20]),shape=(1,1,1,20))\n",
        "tensor,tensor.shape"
      ]
    },
    {
      "cell_type": "code",
      "execution_count": 67,
      "metadata": {
        "colab": {
          "base_uri": "https://localhost:8080/"
        },
        "id": "Mz1Xj9R3zGC7",
        "outputId": "ab6bacb6-58df-420e-c6e0-1ab8ea955759"
      },
      "outputs": [
        {
          "data": {
            "text/plain": [
              "(<tf.Tensor: shape=(20,), dtype=float32, numpy=\n",
              " array([ 8.4224582e-02, -8.6090374e-01,  3.7812304e-01, -5.1962738e-03,\n",
              "        -4.9453196e-01,  6.1781919e-01, -3.3082047e-01, -1.3840806e-03,\n",
              "        -4.2373410e-01, -1.3872087e+00, -1.5488191e+00, -5.3198391e-01,\n",
              "        -4.4756433e-01, -2.0115814e+00, -5.7926011e-01,  5.7938927e-01,\n",
              "         1.3041967e+00,  6.7720258e-01, -7.4587613e-01,  1.0378964e+00],\n",
              "       dtype=float32)>, TensorShape([20]))"
            ]
          },
          "execution_count": 67,
          "metadata": {},
          "output_type": "execute_result"
        }
      ],
      "source": [
        "tensor=tf.squeeze(tensor)\n",
        "tensor,tensor.shape"
      ]
    },
    {
      "cell_type": "markdown",
      "metadata": {
        "id": "v60Oo_5pz_3H"
      },
      "source": [
        "## **One hot encoding of tensors**\n",
        "\n",
        "---\n",
        "> This can be done tf.one_hot(list,depth) and also using pd.get_dummies()"
      ]
    },
    {
      "cell_type": "code",
      "execution_count": 74,
      "metadata": {
        "colab": {
          "base_uri": "https://localhost:8080/"
        },
        "id": "WAiGMUlwzZO7",
        "outputId": "0883efd1-93f0-43ab-cad0-d488f372d477"
      },
      "outputs": [
        {
          "data": {
            "text/plain": [
              "<tf.Tensor: shape=(5, 4), dtype=float32, numpy=\n",
              "array([[1., 0., 0., 0.],\n",
              "       [0., 1., 0., 0.],\n",
              "       [0., 0., 1., 0.],\n",
              "       [0., 0., 0., 1.],\n",
              "       [0., 0., 0., 0.]], dtype=float32)>"
            ]
          },
          "execution_count": 74,
          "metadata": {},
          "output_type": "execute_result"
        }
      ],
      "source": [
        "arr=[0,1,2,3,4] # a list of indices\n",
        "tensor=tf.one_hot(arr,depth=4)\n",
        "tensor"
      ]
    }
  ],
  "metadata": {
    "colab": {
      "collapsed_sections": [],
      "name": "tf_fundamentals.ipynb",
      "provenance": []
    },
    "kernelspec": {
      "display_name": "Python 3",
      "name": "python3"
    },
    "language_info": {
      "name": "python"
    }
  },
  "nbformat": 4,
  "nbformat_minor": 0
}
